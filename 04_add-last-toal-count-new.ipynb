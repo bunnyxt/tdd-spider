{
 "cells": [
  {
   "cell_type": "code",
   "execution_count": 1,
   "metadata": {},
   "outputs": [],
   "source": [
    "from db import Session, DBOperation, TddMemberTotalStatRecord"
   ]
  },
  {
   "cell_type": "code",
   "execution_count": 2,
   "metadata": {},
   "outputs": [],
   "source": [
    "session = Session()"
   ]
  },
  {
   "cell_type": "code",
   "execution_count": 5,
   "metadata": {},
   "outputs": [
    {
     "data": {
      "text/plain": [
       "[[456930, 487708, 1359631780],\n",
       " [67076629, 386471830, 1567944276],\n",
       " [66997463, 23087252, 1567915246],\n",
       " [66988754, 91086476, 1567876507],\n",
       " [66964832, 360733839, 1567879218],\n",
       " [66851210, 2932528, 1567781525],\n",
       " [66847431, 1318196, 1568184917],\n",
       " [66819264, 203194, 1567909578],\n",
       " [66803282, 471126552, 1567764591],\n",
       " [66800179, 3624871, 1567768528]]"
      ]
     },
     "execution_count": 5,
     "metadata": {},
     "output_type": "execute_result"
    }
   ],
   "source": [
    "video_list = session.execute('select aid, mid, pubdate from tdd_video')\n",
    "video_list = list([v[0], v[1], v[2]] for v in video_list)\n",
    "video_list[:10]  # (aid, mid, pubdate)"
   ]
  },
  {
   "cell_type": "code",
   "execution_count": 7,
   "metadata": {},
   "outputs": [
    {
     "data": {
      "text/plain": [
       "[[44255110, 3379951],\n",
       " [44255110, 36081646],\n",
       " [45020985, 3379951],\n",
       " [45020985, 36081646],\n",
       " [45681504, 192829],\n",
       " [45681504, 228147],\n",
       " [46980139, 3379951],\n",
       " [46980139, 36081646],\n",
       " [46980139, 406948276],\n",
       " [48968906, 3379951]]"
      ]
     },
     "execution_count": 7,
     "metadata": {},
     "output_type": "execute_result"
    }
   ],
   "source": [
    "staff_list = session.execute('select aid, mid from tdd_video_staff')\n",
    "staff_list = list([s[0], s[1]] for s in staff_list)\n",
    "staff_list[:10]  # (aid, mid)"
   ]
  },
  {
   "cell_type": "code",
   "execution_count": 11,
   "metadata": {},
   "outputs": [
    {
     "name": "stdout",
     "output_type": "stream",
     "text": [
      "456930 (1359631780, [487708])\n",
      "67076629 (1567944276, [386471830])\n",
      "66997463 (1567915246, [23087252])\n",
      "66988754 (1567876507, [91086476])\n",
      "66964832 (1567879218, [360733839])\n",
      "66851210 (1567781525, [2932528])\n",
      "66847431 (1568184917, [1318196])\n",
      "66819264 (1567909578, [203194])\n",
      "66803282 (1567764591, [471126552])\n",
      "66800179 (1567768528, [3624871])\n"
     ]
    }
   ],
   "source": [
    "aid_dict = {}  # key: aid, value: (pubdate, [mid1, mid2, ...])\n",
    "for video in video_list:\n",
    "    aid = video[0]\n",
    "    mid = video[1]\n",
    "    pubdate = video[2]\n",
    "    aid_dict[aid] = (pubdate, [mid])\n",
    "\n",
    "count = 0\n",
    "for k, v in aid_dict.items():\n",
    "    print(k, v)\n",
    "    count += 1\n",
    "    if count == 10:\n",
    "        break"
   ]
  },
  {
   "cell_type": "code",
   "execution_count": 14,
   "metadata": {},
   "outputs": [
    {
     "name": "stdout",
     "output_type": "stream",
     "text": [
      "456930 (1359631780, [487708])\n",
      "67076629 (1567944276, [386471830])\n",
      "66997463 (1567915246, [23087252])\n",
      "66988754 (1567876507, [91086476])\n",
      "66964832 (1567879218, [360733839])\n",
      "66851210 (1567781525, [2932528])\n",
      "66847431 (1568184917, [1318196])\n",
      "66819264 (1567909578, [203194])\n",
      "66803282 (1567764591, [471126552, 529083])\n",
      "66800179 (1567768528, [3624871, 228651, 517802, 5158610, 6609903, 13782062, 14471510])\n"
     ]
    }
   ],
   "source": [
    "for staff in staff_list:\n",
    "    aid = staff[0]\n",
    "    mid = staff[1]\n",
    "    if aid in aid_dict.keys():\n",
    "        mids = aid_dict[aid][1]\n",
    "        if mid not in mids:\n",
    "            mids.append(mid)\n",
    "    else:\n",
    "        print(member)\n",
    "\n",
    "count = 0\n",
    "for k, v in aid_dict.items():\n",
    "    print(k, v)\n",
    "    count += 1\n",
    "    if count == 10:\n",
    "        break"
   ]
  },
  {
   "cell_type": "code",
   "execution_count": 63,
   "metadata": {},
   "outputs": [
    {
     "name": "stdout",
     "output_type": "stream",
     "text": [
      "2019-12-04 04:00:00 2019-12-04 04:30:00\n"
     ]
    }
   ],
   "source": [
    "from util import ts_s_to_str\n",
    "start_ts += 24 * 60 * 60\n",
    "end_ts = start_ts + 30 * 60\n",
    "print(ts_s_to_str(start_ts), ts_s_to_str(end_ts))"
   ]
  },
  {
   "cell_type": "code",
   "execution_count": 86,
   "metadata": {},
   "outputs": [
    {
     "name": "stdout",
     "output_type": "stream",
     "text": [
      "2020-02-19 04:00:00 2020-02-19 04:30:00\n",
      "2020-02-19 20:15:04 begin fetch video_record_list\n",
      "2020-02-19 20:16:06 end fetch video_record_list\n",
      "len of video_record_list: 217368\n",
      "2129461 30\n",
      "90015409 2\n",
      "need_remove_aids: [2129461, 90015409]\n",
      "add to just_remove_aids 2129461\n",
      "remove [1582056060, 2129461, 9985856, 223054, 312102, 336362, 246317, 41421, 168092]\n",
      "remove [1582056120, 2129461, 9985905, 223054, 312116, 336362, 246319, 41421, 168093]\n",
      "remove [1582056180, 2129461, 9985953, 223058, 312137, 336362, 246323, 41421, 168094]\n",
      "add to just_remove_aids 90015409\n",
      "remove [1582056240, 2129461, 9985953, 223058, 312153, 336364, 246325, 41421, 168096]\n",
      "remove [1582056300, 2129461, 9986009, 223058, 312170, 336364, 246325, 41421, 168096]\n",
      "remove [1582056360, 2129461, 9986063, 223058, 312192, 336364, 246325, 41421, 168097]\n",
      "remove [1582056420, 2129461, 9986115, 223059, 312209, 336364, 246327, 41421, 168099]\n",
      "remove [1582056480, 2129461, 9986161, 223059, 312224, 336365, 246333, 41421, 168102]\n",
      "remove [1582056540, 2129461, 9986161, 223060, 312248, 336366, 246333, 41421, 168102]\n",
      "remove [1582056600, 2129461, 9986203, 223063, 312273, 336367, 246335, 41421, 168103]\n",
      "remove [1582056660, 2129461, 9986248, 223063, 312291, 336367, 246335, 41421, 168103]\n",
      "remove [1582056720, 2129461, 9986299, 223063, 312309, 336367, 246335, 41422, 168103]\n",
      "remove [1582056780, 2129461, 9986344, 223064, 312332, 336367, 246337, 41422, 168104]\n",
      "remove [1582056840, 2129461, 9986344, 223065, 312355, 336367, 246337, 41422, 168104]\n",
      "remove [1582056900, 2129461, 9986392, 223065, 312371, 336367, 246337, 41422, 168105]\n",
      "remove [1582056960, 2129461, 9986439, 223065, 312385, 336368, 246338, 41422, 168107]\n",
      "remove [1582057021, 2129461, 9986491, 223066, 312403, 336368, 246338, 41422, 168108]\n",
      "remove [1582057081, 2129461, 9986540, 223070, 312420, 336368, 246338, 41422, 168108]\n",
      "remove [1582057141, 2129461, 9986540, 223070, 312433, 336368, 246340, 41423, 168109]\n",
      "remove [1582057201, 2129461, 9986577, 223071, 312453, 336368, 246340, 41423, 168109]\n",
      "remove [1582057236, 2129461, 9986609, 223073, 312467, 336368, 246340, 41423, 168109]\n",
      "remove [1582057261, 2129461, 9986609, 223073, 312475, 336368, 246340, 41423, 168109]\n",
      "remove [1582057321, 2129461, 9986664, 223074, 312489, 336368, 246340, 41423, 168111]\n",
      "remove [1582057381, 2129461, 9986664, 223075, 312506, 336369, 246342, 41423, 168112]\n",
      "remove [1582057441, 2129461, 9986708, 223076, 312520, 336369, 246342, 41424, 168113]\n",
      "remove [1582057501, 2129461, 9986745, 223078, 312543, 336370, 246344, 41425, 168114]\n",
      "remove [1582057534, 90015409, 0, 0, 0, 0, 0, 0, 0]\n",
      "remove [1582057561, 2129461, 9986783, 223078, 312559, 336370, 246344, 41425, 168114]\n",
      "remove [1582057621, 2129461, 9986818, 223078, 312577, 336371, 246344, 41425, 168117]\n",
      "remove [1582057681, 2129461, 9986818, 223079, 312586, 336371, 246344, 41425, 168117]\n",
      "remove [1582057741, 2129461, 9986865, 223081, 312607, 336372, 246344, 41425, 168117]\n",
      "finish make member dict!\n",
      "finish make test.csv!\n"
     ]
    }
   ],
   "source": [
    "from collections import Counter\n",
    "from util import ts_s_to_str, get_ts_s\n",
    "\n",
    "# start_ts = 1580328000  # 2020-01-30 04:00:00\n",
    "\n",
    "while start_ts <= 1581969600 + 24 * 60 * 60:  # 2020-02-18 04:00:00\n",
    "# while start_ts <= 1580760000:  # 2020-02-04 04:00:00\n",
    "    end_ts = start_ts + 30 * 60\n",
    "    print(ts_s_to_str(start_ts), ts_s_to_str(end_ts))\n",
    "    print(ts_s_to_str(get_ts_s()), 'begin fetch video_record_list')\n",
    "    session = Session()\n",
    "    video_record_list = session.execute(\n",
    "        'select added, aid, view, danmaku, reply, favorite, coin, share, `like` ' + \\\n",
    "        'from tdd_video_record where added >= %d && added < %d' % (start_ts, end_ts))\n",
    "    session.close()\n",
    "    print(ts_s_to_str(get_ts_s()), 'end fetch video_record_list')\n",
    "\n",
    "    video_record_list = list([r[0], r[1], r[2], r[3], r[4], r[5], r[6], r[7], r[8]] for r in video_record_list)\n",
    "    print('len of video_record_list:', len(video_record_list))\n",
    "\n",
    "    # check duplicate\n",
    "    aid_check_counter = Counter()\n",
    "    need_remove_aids = []\n",
    "    for r in video_record_list:\n",
    "        if r[1] <= 0:  # invalid aid\n",
    "            video_record_list.remove(r)\n",
    "            continue\n",
    "        aid_check_counter[r[1]] += 1\n",
    "    for key, value in aid_check_counter.items():\n",
    "        if value > 1:\n",
    "            print(key, value)\n",
    "            need_remove_aids.append(key)\n",
    "    print('need_remove_aids:', need_remove_aids)\n",
    "    \n",
    "    # remove\n",
    "    just_remove_aids = []\n",
    "    i = 0\n",
    "    while i < len(video_record_list):\n",
    "        record = video_record_list[i]\n",
    "        aid = record[1]\n",
    "        if aid in need_remove_aids:\n",
    "            if aid in just_remove_aids:\n",
    "                del video_record_list[i]\n",
    "                print('remove', record)\n",
    "                i -= 1\n",
    "            else:\n",
    "                just_remove_aids.append(aid)\n",
    "                print('add to just_remove_aids', aid)\n",
    "        i += 1\n",
    "\n",
    "    member_dict = {}\n",
    "    for record in video_record_list:\n",
    "        aid = record[1]\n",
    "        if aid not in aid_dict.keys():\n",
    "            # print(aid, 'not in aid_dict.keys()')\n",
    "            continue\n",
    "\n",
    "        if aid_dict[aid][0] and aid_dict[aid][0] < start_ts:\n",
    "            mids = aid_dict[aid][1]\n",
    "            for mid in mids:\n",
    "                if mid not in member_dict.keys():\n",
    "                    member_dict[mid] = TddMemberTotalStatRecord(end_ts, mid)\n",
    "                member_dict[mid].video_count += 1\n",
    "                member_dict[mid].view += record[2]\n",
    "                member_dict[mid].danmaku += record[3]\n",
    "                member_dict[mid].reply += record[4]\n",
    "                member_dict[mid].favorite += record[5]\n",
    "                member_dict[mid].coin += record[6]\n",
    "                member_dict[mid].share += record[7]\n",
    "                member_dict[mid].like += record[8]\n",
    "    print('finish make member dict!')\n",
    "\n",
    "    with open('test.csv', 'a') as f:\n",
    "        for k, v in member_dict.items():\n",
    "            f.write('%d,%d,%d,%d,%d,%d,%d,%d,%d,%d\\n' \n",
    "                    % (end_ts, k, v.video_count, v.view, v.danmaku, v.reply, v.favorite, v.coin, v.share, v.like))\n",
    "    print('finish make test.csv!')\n",
    "\n",
    "    start_ts += 24 * 60 * 60\n",
    "#     break"
   ]
  },
  {
   "cell_type": "code",
   "execution_count": null,
   "metadata": {},
   "outputs": [],
   "source": []
  },
  {
   "cell_type": "code",
   "execution_count": null,
   "metadata": {},
   "outputs": [],
   "source": []
  },
  {
   "cell_type": "code",
   "execution_count": null,
   "metadata": {
    "scrolled": true
   },
   "outputs": [],
   "source": []
  },
  {
   "cell_type": "code",
   "execution_count": null,
   "metadata": {},
   "outputs": [],
   "source": []
  },
  {
   "cell_type": "code",
   "execution_count": null,
   "metadata": {},
   "outputs": [],
   "source": []
  },
  {
   "cell_type": "code",
   "execution_count": null,
   "metadata": {},
   "outputs": [],
   "source": []
  },
  {
   "cell_type": "code",
   "execution_count": null,
   "metadata": {},
   "outputs": [],
   "source": []
  }
 ],
 "metadata": {
  "kernelspec": {
   "display_name": "Python 3",
   "language": "python",
   "name": "python3"
  },
  "language_info": {
   "codemirror_mode": {
    "name": "ipython",
    "version": 3
   },
   "file_extension": ".py",
   "mimetype": "text/x-python",
   "name": "python",
   "nbconvert_exporter": "python",
   "pygments_lexer": "ipython3",
   "version": "3.7.3"
  }
 },
 "nbformat": 4,
 "nbformat_minor": 2
}
